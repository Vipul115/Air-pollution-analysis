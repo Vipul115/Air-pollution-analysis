{
 "cells": [
  {
   "cell_type": "code",
   "execution_count": 2,
   "metadata": {
    "collapsed": true
   },
   "outputs": [],
   "source": [
    "import numpy as np\n",
    "import pandas as pd\n",
    "import matplotlib.pyplot as plt\n",
    "\n",
    "%matplotlib notebook"
   ]
  },
  {
   "cell_type": "code",
   "execution_count": 3,
   "metadata": {
    "collapsed": true
   },
   "outputs": [],
   "source": [
    "\n",
    "dateparse = lambda x: pd.datetime.strptime(x, '%d/%m/%Y')\n",
    "\n",
    "import pandas as pd\n",
    "data12 = pd.read_csv(\"cpcb_dly_aq_delhi-2012.csv\", parse_dates=['Sampling Date'], date_parser=dateparse).drop(\"Location of Monitoring Station\", axis=1).sort_values(\"Sampling Date\")    "
   ]
  },
  {
   "cell_type": "code",
   "execution_count": 3,
   "metadata": {
    "collapsed": true
   },
   "outputs": [],
   "source": [
    "data12[\"DateMonth\"]=data12[\"Sampling Date\"].dt.to_period(\"M\")"
   ]
  },
  {
   "cell_type": "code",
   "execution_count": 5,
   "metadata": {
    "collapsed": true
   },
   "outputs": [],
   "source": [
    "data12 = data12.groupby(\"DateMonth\").mean().drop(\"SPM\", axis=1)"
   ]
  },
  {
   "cell_type": "code",
   "execution_count": 6,
   "metadata": {},
   "outputs": [
    {
     "data": {
      "text/html": [
       "<div>\n",
       "<style>\n",
       "    .dataframe thead tr:only-child th {\n",
       "        text-align: right;\n",
       "    }\n",
       "\n",
       "    .dataframe thead th {\n",
       "        text-align: left;\n",
       "    }\n",
       "\n",
       "    .dataframe tbody tr th {\n",
       "        vertical-align: top;\n",
       "    }\n",
       "</style>\n",
       "<table border=\"1\" class=\"dataframe\">\n",
       "  <thead>\n",
       "    <tr style=\"text-align: right;\">\n",
       "      <th></th>\n",
       "      <th>Stn Code</th>\n",
       "      <th>SO2</th>\n",
       "      <th>NO2</th>\n",
       "      <th>RSPM/PM10</th>\n",
       "    </tr>\n",
       "    <tr>\n",
       "      <th>DateMonth</th>\n",
       "      <th></th>\n",
       "      <th></th>\n",
       "      <th></th>\n",
       "      <th></th>\n",
       "    </tr>\n",
       "  </thead>\n",
       "  <tbody>\n",
       "    <tr>\n",
       "      <th>2012-01</th>\n",
       "      <td>240.095238</td>\n",
       "      <td>15.095238</td>\n",
       "      <td>101.142857</td>\n",
       "      <td>281.619048</td>\n",
       "    </tr>\n",
       "    <tr>\n",
       "      <th>2012-02</th>\n",
       "      <td>197.217391</td>\n",
       "      <td>15.608696</td>\n",
       "      <td>92.608696</td>\n",
       "      <td>243.956522</td>\n",
       "    </tr>\n",
       "    <tr>\n",
       "      <th>2012-03</th>\n",
       "      <td>207.800000</td>\n",
       "      <td>9.285714</td>\n",
       "      <td>84.228571</td>\n",
       "      <td>271.771429</td>\n",
       "    </tr>\n",
       "    <tr>\n",
       "      <th>2012-04</th>\n",
       "      <td>189.555556</td>\n",
       "      <td>5.074074</td>\n",
       "      <td>78.814815</td>\n",
       "      <td>185.555556</td>\n",
       "    </tr>\n",
       "    <tr>\n",
       "      <th>2012-05</th>\n",
       "      <td>208.960000</td>\n",
       "      <td>3.960000</td>\n",
       "      <td>78.280000</td>\n",
       "      <td>292.720000</td>\n",
       "    </tr>\n",
       "    <tr>\n",
       "      <th>2012-06</th>\n",
       "      <td>176.894737</td>\n",
       "      <td>3.157895</td>\n",
       "      <td>63.631579</td>\n",
       "      <td>297.157895</td>\n",
       "    </tr>\n",
       "    <tr>\n",
       "      <th>2012-07</th>\n",
       "      <td>237.307692</td>\n",
       "      <td>5.769231</td>\n",
       "      <td>64.423077</td>\n",
       "      <td>174.576923</td>\n",
       "    </tr>\n",
       "    <tr>\n",
       "      <th>2012-08</th>\n",
       "      <td>226.681818</td>\n",
       "      <td>7.272727</td>\n",
       "      <td>64.590909</td>\n",
       "      <td>125.409091</td>\n",
       "    </tr>\n",
       "    <tr>\n",
       "      <th>2012-09</th>\n",
       "      <td>206.538462</td>\n",
       "      <td>4.423077</td>\n",
       "      <td>64.000000</td>\n",
       "      <td>145.384615</td>\n",
       "    </tr>\n",
       "    <tr>\n",
       "      <th>2012-10</th>\n",
       "      <td>211.666667</td>\n",
       "      <td>7.047619</td>\n",
       "      <td>107.809524</td>\n",
       "      <td>301.952381</td>\n",
       "    </tr>\n",
       "    <tr>\n",
       "      <th>2012-11</th>\n",
       "      <td>217.727273</td>\n",
       "      <td>7.954545</td>\n",
       "      <td>106.272727</td>\n",
       "      <td>284.727273</td>\n",
       "    </tr>\n",
       "    <tr>\n",
       "      <th>2012-12</th>\n",
       "      <td>221.142857</td>\n",
       "      <td>4.714286</td>\n",
       "      <td>79.380952</td>\n",
       "      <td>262.095238</td>\n",
       "    </tr>\n",
       "  </tbody>\n",
       "</table>\n",
       "</div>"
      ],
      "text/plain": [
       "             Stn Code        SO2         NO2   RSPM/PM10\n",
       "DateMonth                                               \n",
       "2012-01    240.095238  15.095238  101.142857  281.619048\n",
       "2012-02    197.217391  15.608696   92.608696  243.956522\n",
       "2012-03    207.800000   9.285714   84.228571  271.771429\n",
       "2012-04    189.555556   5.074074   78.814815  185.555556\n",
       "2012-05    208.960000   3.960000   78.280000  292.720000\n",
       "2012-06    176.894737   3.157895   63.631579  297.157895\n",
       "2012-07    237.307692   5.769231   64.423077  174.576923\n",
       "2012-08    226.681818   7.272727   64.590909  125.409091\n",
       "2012-09    206.538462   4.423077   64.000000  145.384615\n",
       "2012-10    211.666667   7.047619  107.809524  301.952381\n",
       "2012-11    217.727273   7.954545  106.272727  284.727273\n",
       "2012-12    221.142857   4.714286   79.380952  262.095238"
      ]
     },
     "execution_count": 6,
     "metadata": {},
     "output_type": "execute_result"
    }
   ],
   "source": [
    "data12"
   ]
  },
  {
   "cell_type": "code",
   "execution_count": null,
   "metadata": {
    "collapsed": true
   },
   "outputs": [],
   "source": []
  }
 ],
 "metadata": {
  "kernelspec": {
   "display_name": "Python 3",
   "language": "python",
   "name": "python3"
  },
  "language_info": {
   "codemirror_mode": {
    "name": "ipython",
    "version": 3
   },
   "file_extension": ".py",
   "mimetype": "text/x-python",
   "name": "python",
   "nbconvert_exporter": "python",
   "pygments_lexer": "ipython3",
   "version": "3.6.5"
  }
 },
 "nbformat": 4,
 "nbformat_minor": 2
}
